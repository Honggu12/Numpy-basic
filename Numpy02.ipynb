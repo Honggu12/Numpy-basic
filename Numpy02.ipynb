{
 "cells": [
  {
   "cell_type": "code",
   "execution_count": 5,
   "metadata": {},
   "outputs": [],
   "source": [
    "import numpy as np"
   ]
  },
  {
   "cell_type": "code",
   "execution_count": 8,
   "metadata": {},
   "outputs": [
    {
     "data": {
      "text/plain": [
       "array([[ 1,  2,  3,  4],\n",
       "       [ 5,  6,  7,  8],\n",
       "       [ 9, 10, 11, 12]])"
      ]
     },
     "execution_count": 8,
     "metadata": {},
     "output_type": "execute_result"
    }
   ],
   "source": [
    "# array 인덱싱은 1차원이 아닌 그 이상의 차원에서도 가능\n",
    "\n",
    "arr2 = np.array([[1,2,3,4],\n",
    "                 [5,6,7,8],\n",
    "                 [9,10,11,12]])\n",
    "arr2"
   ]
  },
  {
   "cell_type": "code",
   "execution_count": 10,
   "metadata": {},
   "outputs": [
    {
     "data": {
      "text/plain": [
       "1"
      ]
     },
     "execution_count": 10,
     "metadata": {},
     "output_type": "execute_result"
    }
   ],
   "source": [
    "# 2차원의 array에서 인덱싱을 하기 위해서는 2개의 인자를 입력해야 한다.\n",
    "arr2[0,0]"
   ]
  },
  {
   "cell_type": "code",
   "execution_count": 12,
   "metadata": {},
   "outputs": [
    {
     "data": {
      "text/plain": [
       "array([ 9, 10, 11, 12])"
      ]
     },
     "execution_count": 12,
     "metadata": {},
     "output_type": "execute_result"
    }
   ],
   "source": [
    "# 2행의 모든 요소 꺼내기\n",
    "arr2[2,:]"
   ]
  },
  {
   "cell_type": "code",
   "execution_count": 14,
   "metadata": {},
   "outputs": [
    {
     "data": {
      "text/plain": [
       "12"
      ]
     },
     "execution_count": 14,
     "metadata": {},
     "output_type": "execute_result"
    }
   ],
   "source": [
    "# 2행의 3번째 요소 꺼내기\n",
    "arr2[2,3]"
   ]
  },
  {
   "cell_type": "code",
   "execution_count": 16,
   "metadata": {},
   "outputs": [
    {
     "data": {
      "text/plain": [
       "array([ 4,  8, 12])"
      ]
     },
     "execution_count": 16,
     "metadata": {},
     "output_type": "execute_result"
    }
   ],
   "source": [
    "# 모든 열의 3번째 요소 꺼내기\n",
    "arr2[:,3]"
   ]
  },
  {
   "cell_type": "markdown",
   "metadata": {},
   "source": [
    "Array boolean 인덱싱 (마스크)"
   ]
  },
  {
   "cell_type": "code",
   "execution_count": 25,
   "metadata": {},
   "outputs": [
    {
     "data": {
      "text/plain": [
       "array(['Hong', 'Hong', 'Kim', 'Joan', 'Lee', 'Han', 'Park', 'Ann'],\n",
       "      dtype='<U4')"
      ]
     },
     "execution_count": 25,
     "metadata": {},
     "output_type": "execute_result"
    }
   ],
   "source": [
    "# 위에서 배운 다차원의 인덱싱을 응용하여 boolean 인덱싱을 할 수 있다.\n",
    "# 해당 기능은 주로 마스크라고 이야기하는데,\n",
    "# boolean 인덱싱을 통해 만들어낸 array를 통해 우리가 원하는 행 또는 열의 값만 추출가능\n",
    "# 즉, 마스크처럼 우리가 가리고 싶은 부분은 가리고, 원하는 요소만 꺼낼 수 있다.\n",
    "\n",
    "names = np.array(['Hong','Hong','Kim','Joan','Lee','Han','Park','Ann'])\n",
    "names"
   ]
  },
  {
   "cell_type": "code",
   "execution_count": 20,
   "metadata": {},
   "outputs": [
    {
     "data": {
      "text/plain": [
       "(8,)"
      ]
     },
     "execution_count": 20,
     "metadata": {},
     "output_type": "execute_result"
    }
   ],
   "source": [
    "names.shape"
   ]
  },
  {
   "cell_type": "code",
   "execution_count": 22,
   "metadata": {},
   "outputs": [
    {
     "data": {
      "text/plain": [
       "array([[ 0.01974035, -0.38364012, -0.19079965, -0.08701324],\n",
       "       [ 0.51698734, -0.10522111, -1.03388645, -0.2722182 ],\n",
       "       [-0.86260564, -1.13182192,  0.37007001,  0.20388857],\n",
       "       [-1.01414526, -1.8746341 , -0.63683646, -0.45677864],\n",
       "       [ 1.74317669,  0.09861762,  0.44685697,  2.74261945],\n",
       "       [-1.75090038,  0.24720899,  0.23111885, -0.77713219],\n",
       "       [-0.81641774,  0.34768695, -0.25456927, -0.56232925],\n",
       "       [-1.262448  , -0.46632823,  1.12313067, -0.43358324]])"
      ]
     },
     "execution_count": 22,
     "metadata": {},
     "output_type": "execute_result"
    }
   ],
   "source": [
    "# 아래에서 사용되는 np.random.randn() 함수는 기대값이 0이고, 표준편차가 1인 가우시안 정규 분포를 따르는 난수를 발생시키는 함수이다.\n",
    "# 이 외에도 0~1의 난수를 발생시키는 np.random.rand() 함수도 존재한다.\n",
    "data = np.random.randn(8,4)\n",
    "data"
   ]
  },
  {
   "cell_type": "code",
   "execution_count": 24,
   "metadata": {},
   "outputs": [
    {
     "data": {
      "text/plain": [
       "(8, 4)"
      ]
     },
     "execution_count": 24,
     "metadata": {},
     "output_type": "execute_result"
    }
   ],
   "source": [
    "data.shape"
   ]
  },
  {
   "cell_type": "code",
   "execution_count": 28,
   "metadata": {},
   "outputs": [
    {
     "data": {
      "text/plain": [
       "array([False, False,  True, False, False, False, False, False])"
      ]
     },
     "execution_count": 28,
     "metadata": {},
     "output_type": "execute_result"
    }
   ],
   "source": [
    "# 위와 같은 names와 data라는 array가 있다.\n",
    "# 이때, names의 각 요소가 data의 각 행과 연결된다고 가정해보자.\n",
    "# 그리고 이 때, names가 Beomwoo인 행의 data만 보고 싶을 때 다음과 같이 마스크를 사용한다.\n",
    "\n",
    "# 요소가 Kim인 항목에 대한 mask 생성\n",
    "names_Kim_mask = (names == 'Kim')\n",
    "names_Kim_mask"
   ]
  },
  {
   "cell_type": "code",
   "execution_count": 30,
   "metadata": {},
   "outputs": [
    {
     "data": {
      "text/plain": [
       "array([[-0.86260564, -1.13182192,  0.37007001,  0.20388857]])"
      ]
     },
     "execution_count": 30,
     "metadata": {},
     "output_type": "execute_result"
    }
   ],
   "source": [
    "data[names_Kim_mask,:]"
   ]
  },
  {
   "cell_type": "code",
   "execution_count": 33,
   "metadata": {},
   "outputs": [
    {
     "data": {
      "text/plain": [
       "array([[-0.86260564, -1.13182192,  0.37007001,  0.20388857],\n",
       "       [-0.81641774,  0.34768695, -0.25456927, -0.56232925]])"
      ]
     },
     "execution_count": 33,
     "metadata": {},
     "output_type": "execute_result"
    }
   ],
   "source": [
    "# 논리 연산을 응용하여, 요소가 Kim 또는 Park인 행의 데이터만 꺼내기\n",
    "data[(names == 'Kim') | (names == 'Park'), :]"
   ]
  },
  {
   "cell_type": "code",
   "execution_count": 35,
   "metadata": {},
   "outputs": [
    {
     "data": {
      "text/plain": [
       "array([False, False,  True,  True, False,  True,  True,  True])"
      ]
     },
     "execution_count": 35,
     "metadata": {},
     "output_type": "execute_result"
    }
   ],
   "source": [
    "# data array 자체적으로 마스크를 만들고, 인덱싱 가능\n",
    "# data array에서 0번째 열의 값이 0보다 작은 행을 구하기\n",
    "\n",
    "data[:,0] < 0"
   ]
  },
  {
   "cell_type": "code",
   "execution_count": 37,
   "metadata": {},
   "outputs": [
    {
     "data": {
      "text/plain": [
       "array([[-0.86260564, -1.13182192,  0.37007001,  0.20388857],\n",
       "       [-1.01414526, -1.8746341 , -0.63683646, -0.45677864],\n",
       "       [-1.75090038,  0.24720899,  0.23111885, -0.77713219],\n",
       "       [-0.81641774,  0.34768695, -0.25456927, -0.56232925],\n",
       "       [-1.262448  , -0.46632823,  1.12313067, -0.43358324]])"
      ]
     },
     "execution_count": 37,
     "metadata": {},
     "output_type": "execute_result"
    }
   ],
   "source": [
    "# 위에서 만든 마스크를 이용하여 0번째 열의 값이 0보다 작은 행을 구한다.\n",
    "data[data[:,0]<0,:]"
   ]
  },
  {
   "cell_type": "code",
   "execution_count": 39,
   "metadata": {},
   "outputs": [
    {
     "data": {
      "text/plain": [
       "array([[ 0.37007001,  0.20388857],\n",
       "       [-0.63683646, -0.45677864],\n",
       "       [ 0.23111885, -0.77713219],\n",
       "       [-0.25456927, -0.56232925],\n",
       "       [ 1.12313067, -0.43358324]])"
      ]
     },
     "execution_count": 39,
     "metadata": {},
     "output_type": "execute_result"
    }
   ],
   "source": [
    "# 0번째 열의 값이 0보다 작은 행의 2,3번째 열 값\n",
    "data[data[:,0]<0,2:4]"
   ]
  },
  {
   "cell_type": "code",
   "execution_count": 42,
   "metadata": {},
   "outputs": [
    {
     "data": {
      "text/plain": [
       "array([[-0.93566979,  1.35290521,  2.03421405],\n",
       "       [ 0.80943811, -1.67895245, -0.3941865 ],\n",
       "       [-0.63097041,  1.27009392, -0.00582294],\n",
       "       [-0.03656235,  1.10167008, -0.26670155],\n",
       "       [-1.64474358,  2.6302615 ,  1.0575833 ]])"
      ]
     },
     "execution_count": 42,
     "metadata": {},
     "output_type": "execute_result"
    }
   ],
   "source": [
    "# numpy에서 array에 적용되는 다양한 함수들\n",
    "\n",
    "arr1 = np.random.randn(5,3)\n",
    "arr1"
   ]
  },
  {
   "cell_type": "code",
   "execution_count": 44,
   "metadata": {},
   "outputs": [
    {
     "data": {
      "text/plain": [
       "array([[0.93566979, 1.35290521, 2.03421405],\n",
       "       [0.80943811, 1.67895245, 0.3941865 ],\n",
       "       [0.63097041, 1.27009392, 0.00582294],\n",
       "       [0.03656235, 1.10167008, 0.26670155],\n",
       "       [1.64474358, 2.6302615 , 1.0575833 ]])"
      ]
     },
     "execution_count": 44,
     "metadata": {},
     "output_type": "execute_result"
    }
   ],
   "source": [
    "# 각 성분의 절대값 계산하기\n",
    "np.abs(arr1)"
   ]
  },
  {
   "cell_type": "code",
   "execution_count": 46,
   "metadata": {},
   "outputs": [
    {
     "name": "stderr",
     "output_type": "stream",
     "text": [
      "c:\\python\\python37\\lib\\site-packages\\ipykernel_launcher.py:2: RuntimeWarning: invalid value encountered in sqrt\n",
      "  \n"
     ]
    },
    {
     "data": {
      "text/plain": [
       "array([[       nan, 1.16314453, 1.42625876],\n",
       "       [0.89968778,        nan,        nan],\n",
       "       [       nan, 1.12698443,        nan],\n",
       "       [       nan, 1.04960473,        nan],\n",
       "       [       nan, 1.6218081 , 1.02838869]])"
      ]
     },
     "execution_count": 46,
     "metadata": {},
     "output_type": "execute_result"
    }
   ],
   "source": [
    "# 각 성분의 제곱근 계산하기 ( == array ** 0.5)\n",
    "np.sqrt(arr1)"
   ]
  },
  {
   "cell_type": "code",
   "execution_count": 47,
   "metadata": {},
   "outputs": [
    {
     "data": {
      "text/plain": [
       "array([[8.75477955e-01, 1.83035250e+00, 4.13802681e+00],\n",
       "       [6.55190053e-01, 2.81888134e+00, 1.55382999e-01],\n",
       "       [3.98123661e-01, 1.61313856e+00, 3.39066586e-05],\n",
       "       [1.33680557e-03, 1.21367697e+00, 7.11297167e-02],\n",
       "       [2.70518144e+00, 6.91827555e+00, 1.11848245e+00]])"
      ]
     },
     "execution_count": 47,
     "metadata": {},
     "output_type": "execute_result"
    }
   ],
   "source": [
    "# 각 성분의 제곱 계산하기\n",
    "np.square(arr1)"
   ]
  },
  {
   "cell_type": "code",
   "execution_count": 48,
   "metadata": {},
   "outputs": [
    {
     "data": {
      "text/plain": [
       "array([[ 0.392323  ,  3.86864845,  7.64624022],\n",
       "       [ 2.24664526,  0.18656931,  0.6742283 ],\n",
       "       [ 0.53207522,  3.561187  ,  0.99419398],\n",
       "       [ 0.96409798,  3.00918742,  0.76590162],\n",
       "       [ 0.19306206, 13.87739834,  2.87940393]])"
      ]
     },
     "execution_count": 48,
     "metadata": {},
     "output_type": "execute_result"
    }
   ],
   "source": [
    "# 각 성분을 무리수 e의 지수로 삼은 값을 계산하기\n",
    "np.exp(arr1)"
   ]
  },
  {
   "cell_type": "code",
   "execution_count": 50,
   "metadata": {},
   "outputs": [
    {
     "name": "stderr",
     "output_type": "stream",
     "text": [
      "c:\\python\\python37\\lib\\site-packages\\ipykernel_launcher.py:2: RuntimeWarning: invalid value encountered in log\n",
      "  \n"
     ]
    },
    {
     "data": {
      "text/plain": [
       "array([[        nan,  0.30225429,  0.71010953],\n",
       "       [-0.21141496,         nan,         nan],\n",
       "       [        nan,  0.23909085,         nan],\n",
       "       [        nan,  0.09682728,         nan],\n",
       "       [        nan,  0.96708327,  0.0559864 ]])"
      ]
     },
     "execution_count": 50,
     "metadata": {},
     "output_type": "execute_result"
    }
   ],
   "source": [
    "# 각 성분을 자연로그, 상용로그, 밑이 2인 로그를 씌운 값을 계산하기\n",
    "np.log(arr1)"
   ]
  },
  {
   "cell_type": "code",
   "execution_count": 51,
   "metadata": {},
   "outputs": [
    {
     "name": "stderr",
     "output_type": "stream",
     "text": [
      "c:\\python\\python37\\lib\\site-packages\\ipykernel_launcher.py:1: RuntimeWarning: invalid value encountered in log10\n",
      "  \"\"\"Entry point for launching an IPython kernel.\n"
     ]
    },
    {
     "data": {
      "text/plain": [
       "array([[        nan,  0.13126737,  0.30839665],\n",
       "       [-0.09181635,         nan,         nan],\n",
       "       [        nan,  0.10383584,         nan],\n",
       "       [        nan,  0.04205156,         nan],\n",
       "       [        nan,  0.41999893,  0.02431459]])"
      ]
     },
     "execution_count": 51,
     "metadata": {},
     "output_type": "execute_result"
    }
   ],
   "source": [
    "np.log10(arr1)"
   ]
  },
  {
   "cell_type": "code",
   "execution_count": 52,
   "metadata": {},
   "outputs": [
    {
     "name": "stderr",
     "output_type": "stream",
     "text": [
      "c:\\python\\python37\\lib\\site-packages\\ipykernel_launcher.py:1: RuntimeWarning: invalid value encountered in log2\n",
      "  \"\"\"Entry point for launching an IPython kernel.\n"
     ]
    },
    {
     "data": {
      "text/plain": [
       "array([[        nan,  0.43606076,  1.0244715 ],\n",
       "       [-0.30500732,         nan,         nan],\n",
       "       [        nan,  0.34493518,         nan],\n",
       "       [        nan,  0.13969224,         nan],\n",
       "       [        nan,  1.39520624,  0.08077131]])"
      ]
     },
     "execution_count": 52,
     "metadata": {},
     "output_type": "execute_result"
    }
   ],
   "source": [
    "np.log2(arr1)"
   ]
  },
  {
   "cell_type": "code",
   "execution_count": 53,
   "metadata": {},
   "outputs": [
    {
     "data": {
      "text/plain": [
       "array([[-1.,  1.,  1.],\n",
       "       [ 1., -1., -1.],\n",
       "       [-1.,  1., -1.],\n",
       "       [-1.,  1., -1.],\n",
       "       [-1.,  1.,  1.]])"
      ]
     },
     "execution_count": 53,
     "metadata": {},
     "output_type": "execute_result"
    }
   ],
   "source": [
    "# 각 성분의 부호 계산하기(+인 경우1, -인 경우 -1, 0인 경우 0)\n",
    "np.sign(arr1)"
   ]
  },
  {
   "cell_type": "code",
   "execution_count": 54,
   "metadata": {},
   "outputs": [
    {
     "data": {
      "text/plain": [
       "array([[-0.,  2.,  3.],\n",
       "       [ 1., -1., -0.],\n",
       "       [-0.,  2., -0.],\n",
       "       [-0.,  2., -0.],\n",
       "       [-1.,  3.,  2.]])"
      ]
     },
     "execution_count": 54,
     "metadata": {},
     "output_type": "execute_result"
    }
   ],
   "source": [
    "# 각 성분의 소수 첫 번째 자리에서 올림한 값을 계산하기\n",
    "np.ceil(arr1)"
   ]
  },
  {
   "cell_type": "code",
   "execution_count": 55,
   "metadata": {},
   "outputs": [
    {
     "data": {
      "text/plain": [
       "array([[-1.,  1.,  2.],\n",
       "       [ 0., -2., -1.],\n",
       "       [-1.,  1., -1.],\n",
       "       [-1.,  1., -1.],\n",
       "       [-2.,  2.,  1.]])"
      ]
     },
     "execution_count": 55,
     "metadata": {},
     "output_type": "execute_result"
    }
   ],
   "source": [
    "# 각 성분의 소수 첫 번째 자리에서 내림한 값을 계산하기\n",
    "np.floor(arr1)"
   ]
  },
  {
   "cell_type": "code",
   "execution_count": 56,
   "metadata": {},
   "outputs": [
    {
     "data": {
      "text/plain": [
       "array([[False, False, False],\n",
       "       [False, False, False],\n",
       "       [False, False, False],\n",
       "       [False, False, False],\n",
       "       [False, False, False]])"
      ]
     },
     "execution_count": 56,
     "metadata": {},
     "output_type": "execute_result"
    }
   ],
   "source": [
    "# 각 성분이 NaN인 경우 True를, 아닌 경우 False를 반환하기\n",
    "np.isnan(arr1)"
   ]
  },
  {
   "cell_type": "code",
   "execution_count": 57,
   "metadata": {},
   "outputs": [
    {
     "data": {
      "text/plain": [
       "array([[False, False, False],\n",
       "       [False, False, False],\n",
       "       [False, False, False],\n",
       "       [False, False, False],\n",
       "       [False, False, False]])"
      ]
     },
     "execution_count": 57,
     "metadata": {},
     "output_type": "execute_result"
    }
   ],
   "source": [
    "# 각 성분이 무한대인 경우 True를, 아닌 경우 False를 반환하기\n",
    "np.isinf(arr1)"
   ]
  },
  {
   "cell_type": "code",
   "execution_count": 58,
   "metadata": {},
   "outputs": [
    {
     "data": {
      "text/plain": [
       "array([[ 0.59327938,  0.21617109, -0.44700797],\n",
       "       [ 0.68990529, -0.10794539,  0.9233093 ],\n",
       "       [ 0.80745541,  0.29619117,  0.99998305],\n",
       "       [ 0.99933167,  0.4521071 ,  0.96464545],\n",
       "       [-0.07387988, -0.87209389,  0.49097887]])"
      ]
     },
     "execution_count": 58,
     "metadata": {},
     "output_type": "execute_result"
    }
   ],
   "source": [
    "# 각 성분에 대해 삼각함수 값을 계산하기(cos, cosh, sin sinh, tan, tanh)\n",
    "np.cos(arr1)"
   ]
  },
  {
   "cell_type": "markdown",
   "metadata": {},
   "source": [
    "두 개의 array에 적용되는 함수"
   ]
  },
  {
   "cell_type": "code",
   "execution_count": 60,
   "metadata": {},
   "outputs": [
    {
     "data": {
      "text/plain": [
       "array([[-0.93566979,  1.35290521,  2.03421405],\n",
       "       [ 0.80943811, -1.67895245, -0.3941865 ],\n",
       "       [-0.63097041,  1.27009392, -0.00582294],\n",
       "       [-0.03656235,  1.10167008, -0.26670155],\n",
       "       [-1.64474358,  2.6302615 ,  1.0575833 ]])"
      ]
     },
     "execution_count": 60,
     "metadata": {},
     "output_type": "execute_result"
    }
   ],
   "source": [
    "arr1"
   ]
  },
  {
   "cell_type": "code",
   "execution_count": 62,
   "metadata": {},
   "outputs": [
    {
     "data": {
      "text/plain": [
       "array([[ 1.63632491, -1.2284773 , -1.44507597],\n",
       "       [ 1.05565818,  1.49631268, -0.63010781],\n",
       "       [-0.01766746,  0.8804094 , -0.01475733],\n",
       "       [-0.1549325 , -1.15640909,  0.04148046],\n",
       "       [ 0.20917574, -0.19122633,  1.53854273]])"
      ]
     },
     "execution_count": 62,
     "metadata": {},
     "output_type": "execute_result"
    }
   ],
   "source": [
    "arr2 = np.random.randn(5,3)\n",
    "arr2"
   ]
  },
  {
   "cell_type": "code",
   "execution_count": 64,
   "metadata": {},
   "outputs": [
    {
     "data": {
      "text/plain": [
       "array([[-1.53105979e+00, -1.66201334e+00, -2.93959385e+00],\n",
       "       [ 8.54489960e-01, -2.51223785e+00,  2.48379996e-01],\n",
       "       [ 1.11476425e-02,  1.11820262e+00,  8.59310826e-05],\n",
       "       [ 5.66469642e-03, -1.27398130e+00, -1.10629043e-02],\n",
       "       [-3.44040447e-01, -5.02975259e-01,  1.62713711e+00]])"
      ]
     },
     "execution_count": 64,
     "metadata": {},
     "output_type": "execute_result"
    }
   ],
   "source": [
    "# 두 개의 array에 대해 동일한 위치의 성분끼리 연산 값을 계산하기(add, subtract, multiply, divide)\n",
    "np.multiply(arr1,arr2)"
   ]
  },
  {
   "cell_type": "code",
   "execution_count": 67,
   "metadata": {},
   "outputs": [
    {
     "data": {
      "text/plain": [
       "array([[ 1.63632491,  1.35290521,  2.03421405],\n",
       "       [ 1.05565818,  1.49631268, -0.3941865 ],\n",
       "       [-0.01766746,  1.27009392, -0.00582294],\n",
       "       [-0.03656235,  1.10167008,  0.04148046],\n",
       "       [ 0.20917574,  2.6302615 ,  1.53854273]])"
      ]
     },
     "execution_count": 67,
     "metadata": {},
     "output_type": "execute_result"
    }
   ],
   "source": [
    "# 두개의 array에 대해 동일한 위치의 성분끼리 비교하여 최대값 또는 최소값 계산하기\n",
    "#(maximum, minimum)\n",
    "np.maximum(arr1, arr2)"
   ]
  },
  {
   "cell_type": "code",
   "execution_count": 70,
   "metadata": {},
   "outputs": [
    {
     "data": {
      "text/plain": [
       "4.662556587601539"
      ]
     },
     "execution_count": 70,
     "metadata": {},
     "output_type": "execute_result"
    }
   ],
   "source": [
    "# 통계함수\n",
    "\n",
    "#전체 성분의 합을 계산\n",
    "np.sum(arr1)"
   ]
  },
  {
   "cell_type": "code",
   "execution_count": 72,
   "metadata": {},
   "outputs": [
    {
     "data": {
      "text/plain": [
       "array([ 2.45144947, -1.26370085,  0.63330056,  0.79840618,  2.04310122])"
      ]
     },
     "execution_count": 72,
     "metadata": {},
     "output_type": "execute_result"
    }
   ],
   "source": [
    "# 열 간의 합을 계산\n",
    "np.sum(arr1, axis=1)"
   ]
  },
  {
   "cell_type": "code",
   "execution_count": 74,
   "metadata": {},
   "outputs": [
    {
     "data": {
      "text/plain": [
       "array([-2.43850802,  4.67597825,  2.42508636])"
      ]
     },
     "execution_count": 74,
     "metadata": {},
     "output_type": "execute_result"
    }
   ],
   "source": [
    "# 행 간의 합을 계산\n",
    "np.sum(arr1, axis=0)"
   ]
  },
  {
   "cell_type": "code",
   "execution_count": 76,
   "metadata": {},
   "outputs": [
    {
     "data": {
      "text/plain": [
       "0.3108371058401026"
      ]
     },
     "execution_count": 76,
     "metadata": {},
     "output_type": "execute_result"
    }
   ],
   "source": [
    "# 전체 성분의 평균을 계산\n",
    "np.mean(arr1)"
   ]
  },
  {
   "cell_type": "code",
   "execution_count": 78,
   "metadata": {},
   "outputs": [
    {
     "data": {
      "text/plain": [
       "array([-0.4877016 ,  0.93519565,  0.48501727])"
      ]
     },
     "execution_count": 78,
     "metadata": {},
     "output_type": "execute_result"
    }
   ],
   "source": [
    "# 행 간의 평균을 계산\n",
    "np.mean(arr1, axis=0)"
   ]
  },
  {
   "cell_type": "code",
   "execution_count": 80,
   "metadata": {},
   "outputs": [],
   "source": [
    "# 표준편차, 분산, 최소값, 최대값 (std, var, min, max)"
   ]
  },
  {
   "cell_type": "code",
   "execution_count": 82,
   "metadata": {},
   "outputs": [
    {
     "data": {
      "text/plain": [
       "4"
      ]
     },
     "execution_count": 82,
     "metadata": {},
     "output_type": "execute_result"
    }
   ],
   "source": [
    "# 전체 성분의 최소값, 최대값이 위치한 인덱스를 반환(armin, armax)\n",
    "np.argmin(arr1)"
   ]
  },
  {
   "cell_type": "code",
   "execution_count": 84,
   "metadata": {},
   "outputs": [
    {
     "data": {
      "text/plain": [
       "array([1, 4, 0], dtype=int64)"
      ]
     },
     "execution_count": 84,
     "metadata": {},
     "output_type": "execute_result"
    }
   ],
   "source": [
    "np.argmax(arr1, axis=0)"
   ]
  },
  {
   "cell_type": "code",
   "execution_count": 86,
   "metadata": {},
   "outputs": [
    {
     "data": {
      "text/plain": [
       "array([-0.93566979,  0.41723542,  2.45144947,  3.26088758,  1.58193513,\n",
       "        1.18774862,  0.55677821,  1.82687213,  1.82104918,  1.78448683,\n",
       "        2.88615691,  2.61945536,  0.97471178,  3.60497328,  4.66255659])"
      ]
     },
     "execution_count": 86,
     "metadata": {},
     "output_type": "execute_result"
    }
   ],
   "source": [
    "# 맨 처음 성분부터 각 성분까지의 누적합 또는 누적곱을 계산(cumsum, cumprod)\n",
    "np.cumsum(arr1)"
   ]
  },
  {
   "cell_type": "code",
   "execution_count": 88,
   "metadata": {},
   "outputs": [
    {
     "data": {
      "text/plain": [
       "array([-9.35669790e-01, -1.26587253e+00, -2.57505569e+00, -2.08434821e+00,\n",
       "        3.49952154e+00, -1.37946416e+00,  8.70401070e-01,  1.10549110e+00,\n",
       "       -6.43721105e-03,  2.35359576e-04,  2.59288603e-04, -6.91526722e-05,\n",
       "        1.13738414e-04,  2.99161770e-04,  3.16388494e-04])"
      ]
     },
     "execution_count": 88,
     "metadata": {},
     "output_type": "execute_result"
    }
   ],
   "source": [
    "np.cumprod(arr1)"
   ]
  },
  {
   "cell_type": "code",
   "execution_count": 90,
   "metadata": {},
   "outputs": [
    {
     "data": {
      "text/plain": [
       "array([[-0.93566979,  1.35290521,  2.03421405],\n",
       "       [-1.67895245, -0.3941865 ,  0.80943811],\n",
       "       [-0.63097041, -0.00582294,  1.27009392],\n",
       "       [-0.26670155, -0.03656235,  1.10167008],\n",
       "       [-1.64474358,  1.0575833 ,  2.6302615 ]])"
      ]
     },
     "execution_count": 90,
     "metadata": {},
     "output_type": "execute_result"
    }
   ],
   "source": [
    "# 전체 성분에 대해 오름차순 정렬\n",
    "np.sort(arr1)"
   ]
  },
  {
   "cell_type": "code",
   "execution_count": 92,
   "metadata": {},
   "outputs": [
    {
     "data": {
      "text/plain": [
       "array([[-1.64474358,  1.0575833 ,  2.6302615 ],\n",
       "       [-0.26670155, -0.03656235,  1.10167008],\n",
       "       [-0.63097041, -0.00582294,  1.27009392],\n",
       "       [-1.67895245, -0.3941865 ,  0.80943811],\n",
       "       [-0.93566979,  1.35290521,  2.03421405]])"
      ]
     },
     "execution_count": 92,
     "metadata": {},
     "output_type": "execute_result"
    }
   ],
   "source": [
    "# 전체 성분에 대해서 내림차순 정렬\n",
    "np.sort(arr1)[::-1]"
   ]
  },
  {
   "cell_type": "code",
   "execution_count": 94,
   "metadata": {},
   "outputs": [
    {
     "data": {
      "text/plain": [
       "array([[-1.64474358, -1.67895245, -0.3941865 ],\n",
       "       [-0.93566979,  1.10167008, -0.26670155],\n",
       "       [-0.63097041,  1.27009392, -0.00582294],\n",
       "       [-0.03656235,  1.35290521,  1.0575833 ],\n",
       "       [ 0.80943811,  2.6302615 ,  2.03421405]])"
      ]
     },
     "execution_count": 94,
     "metadata": {},
     "output_type": "execute_result"
    }
   ],
   "source": [
    "# 행 방향으로 오름차순 정렬\n",
    "np.sort(arr1, axis=0)"
   ]
  }
 ],
 "metadata": {
  "kernelspec": {
   "display_name": "Python 3",
   "language": "python",
   "name": "python3"
  },
  "language_info": {
   "codemirror_mode": {
    "name": "ipython",
    "version": 3
   },
   "file_extension": ".py",
   "mimetype": "text/x-python",
   "name": "python",
   "nbconvert_exporter": "python",
   "pygments_lexer": "ipython3",
   "version": "3.7.3"
  }
 },
 "nbformat": 4,
 "nbformat_minor": 4
}
